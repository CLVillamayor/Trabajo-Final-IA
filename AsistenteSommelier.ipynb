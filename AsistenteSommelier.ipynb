{
  "nbformat": 4,
  "nbformat_minor": 0,
  "metadata": {
    "colab": {
      "provenance": [],
      "authorship_tag": "ABX9TyOLbgJ20HT9cbV2f8DyFVNB",
      "include_colab_link": true
    },
    "kernelspec": {
      "name": "python3",
      "display_name": "Python 3"
    },
    "language_info": {
      "name": "python"
    }
  },
  "cells": [
    {
      "cell_type": "markdown",
      "metadata": {
        "id": "view-in-github",
        "colab_type": "text"
      },
      "source": [
        "<a href=\"https://colab.research.google.com/github/CLVillamayor/Trabajo-Final-IA/blob/main/AsistenteSommelier.ipynb\" target=\"_parent\"><img src=\"https://colab.research.google.com/assets/colab-badge.svg\" alt=\"Open In Colab\"/></a>"
      ]
    },
    {
      "cell_type": "code",
      "source": [
        "!pip install -q -U google-generativeai"
      ],
      "metadata": {
        "id": "-t0bdaD11aFz"
      },
      "execution_count": 1,
      "outputs": []
    },
    {
      "cell_type": "code",
      "source": [
        "import google.generativeai as genai"
      ],
      "metadata": {
        "id": "oTmwlB3j1Z1r"
      },
      "execution_count": 2,
      "outputs": []
    },
    {
      "cell_type": "code",
      "source": [
        "from google.colab import userdata\n",
        "\n",
        "GOOGLE_API_KEY=userdata.get('ProyectoAsistente')\n",
        "genai.configure(api_key=GOOGLE_API_KEY)"
      ],
      "metadata": {
        "id": "7htIWYz-2kh3"
      },
      "execution_count": 3,
      "outputs": []
    },
    {
      "cell_type": "code",
      "execution_count": 4,
      "metadata": {
        "id": "y4qVSRbSnAg_",
        "colab": {
          "base_uri": "https://localhost:8080/",
          "height": 126
        },
        "outputId": "81590f1b-90c9-4d3b-9eba-cd2d32847277"
      },
      "outputs": [
        {
          "output_type": "stream",
          "name": "stdout",
          "text": [
            "¡Me gusta la idea del Pinot Noir!  Suave y con notas de frutos rojos, suena perfecto para el salmón al horno. \n",
            "\n",
            "¿Te gustaría probar un Pinot Noir de la Patagonia Argentina?  Tenemos un par de opciones excelentes, con un toque de especias y frutos rojos que complementarán el sabor del salmón. \n",
            "\n",
            "¿Qué te parece? 😊 \n",
            "\n"
          ]
        }
      ],
      "source": [
        "\n",
        "# Create the model\n",
        "generation_config = {\n",
        "  \"temperature\": 0.7,\n",
        "  \"top_p\": 0.95,\n",
        "  \"top_k\": 64,\n",
        "  \"max_output_tokens\": 8192,\n",
        "  \"response_mime_type\": \"text/plain\",\n",
        "}\n",
        "\n",
        "model = genai.GenerativeModel(\n",
        "  model_name=\"gemini-1.5-flash\",\n",
        "  generation_config=generation_config,\n",
        "  # safety_settings = Adjust safety settings\n",
        "  # See https://ai.google.dev/gemini-api/docs/safety-settings\n",
        "  system_instruction=\"Eres un asistente sommelier especialista en todo tipo de bebidas alcoholicas, bebidas sin alcohol e infusiones. Debes brindar asesoramiento a los comensales que te indicaran su menú y preguntaran que tipo de bebida,sean vinos, licores, cervezas, infusiones u otros es recomendable para acompañar su platillo .Tu respuesta debe contener una breve  justificación y solo serán opciones de Argentina.Estos son los platos junto y sus ingredientes que se encuentran disponibles y los cuales te indicarán que van a elegir para luego preguntarte una recomendacion de bebida:ENTRADAS:SCAMPI TANDOORI Langostinos sarteneados con aceite de oliva, ajo, perejil y Tandoori.PRIMA PASTA Jamón crudo, mortadela con pistacho, selección de quesos, berenjenas y tomates confitados.BURRATA Mozzarella de búfala, jamón crudo, rúcula, oliva y reducción de aceto balsámico.RABAS Calamares rebozados en harina y fritos.UOVA DEI MIEI SOGNI Huevos salteados con verdeo, oliva y tomates, con aderezo de trufa blanca y crutones.PORCHETTA Jamón de cerdo con hierbas horneado por 12 horas.CROCHETTE Croquetas de espinaca, calabaza y mozzarella.SPIEDINO DI SCAMPI Langostinos apanados, en brochette.ASAGGIO DI FORMAGGI Selección de quesos especiales: Brie, Parmigiano, saborizado, azul y Gouda.ENSALADAS:CESARE CON POLLO Hojas verdes, pechuga de pollo, láminas de queso parmesano, crutones y aderezo César (anchoas, queso parmesano, aceite de oliva y vinagre.CAPRESE Mozzarella de búfala, tomates, albahaca y aceite de oliva.BRUXELLES Queso Brie, espinaca y langostinos salteados, con aderezo de mayonesa, aceite de oliva y ciboulette.BLU Hojas de estación, semillas, peras frescas, queso azul y crutones.PIZZAS:MARGHERITA Salsa de tomates, mozzarella, orégano y albahaca.FUNGHI Salsa de tomates, mozzarella, champiñones frescos salteados y orégano.DELIZIA Salsa de tomates, jamón crudo, rúcula y láminas de queso parmesano.BIANCA Horneada a la piedra. Opciones: con mozzarella y porotos, con mozzarella y papas, con mozzarella, salsa de tomates y anchoas.PASTAS RELLENAS:RAVIOLI De ricota y espinaca, con salsa boloñesa.RAVIOLI DEI CARABINIERI Masa negra, rellenos de langostinos y zapallo, con salsa de langostinos y azafrán.LASAGNA DELLA NONNA Con jamón, mozarella, salsa de tomates y salsa blanca.LASAGNA NERO SEPPIA Masa negra, con langostinos, cebolla de verdeo, zapallo cabutia y bechamel.SORRENTINI PARISIEN De ricota, mozzarella y jamón, con salsa de crema con jamón y champiñones.SORRENTINI RUSTICA Sorrentinos verdes de ricota, mozzarella y albahaca, gratinados con Pomodoro Fresco y bechamel.CAPPELLETTI Pasta rellena de lomo, mortadela italiana y jamón crudo, con salsa de tomates frescos.RAVIOLI DI PIETRO Ravioles de masa de rúcula fresca y rellenos de lomo y hongos, en salsa de tomates frescos.FIDEOS Y ÑOQUIS CASEROS:GNOCCHI RAGU De papa, con salsa de tomates y carne.GNOCCHI SPINACI Ñoquis de espinaca fresca gratinados, con cuatro variedades de queso.PAPPARDELLE AUM AUM Cintas anchas al huevo, con salsa de tomates, berenjenas, mozzarella de búfala y albóndigas de carne.FETTUCCINE AL PESTO Cintas de espinada fresca, con pesto casero.FETTUCCINE AI GAMBERI Cintas de tinta de calamar, salsa de langostinos, salmón y crema.PASTA ITALIANA:CAPPELLINI AI FUNGHI PORCINI Pasta fina con salsa de tomates frescos y selección de hongos al aroma de trufas.SPAGHETTI DELLA MAREGGIATA Con salsa de tomates y variedad de mariscos.RIGATONI POMODORO E BASILICO Con salsa de tomates frescos y albahaca.PENNE RICOTTA E MELANZANE Pasta corta, con salsa de tomates cherry, ricota, rúcula y berenjenas.CARNES:PETTO DI POLLO Pechugas grilladas, acompañadas de champiñones salteados.BONDIOLA DELLA CAMPAGNA Carne de cerdo tiernizada, con cebollas, salsa de tomates y papas horneadas.ROAST BEEF Cortes de res cocinado a fuego bajo, acompañado de puré de papas con albahaca.BISTECCA Bife de chorizo acompañado de papas horneadas.CONIGLIO CACCIATORA Conejo con cebollas salteadas, aceitunas negras y zanahoria, acompañado de papas al horno.PESACADOS Y MARISCOS:SALMONE Salmón rosado a la plancha con verduras grilladas.POLPO DI SPAGNA Pulpo de Vigo saborizado con hierbas y acompañado con cebolla de verdeo, papas al natural y pimentón.CARTOCCIO DI PESCA Pescado del día envuelto y horneado, acompañado de verduras de estación y papas.PACU UN TEGOLA Pieza de pacú con hierbas, acompañada de verduras horneadas.RISOTTOS:RISOTTO DI FUNGHI PORCINI Arroz Carnaroli con selección de hongos y aceite aromatizado a la trufa.RISOTTO DI GAMBERONI Arroz Carnaroli con azafrán y langostinos.POSTRES:TIRAMISÙ.FLAN A LA NARANJA.SEMIFREDDO.MOUSSE.VULCANO.STRUDEL DE MANZANA.CRÊME BRÛLÉE.CARPACCIO DE ANANÁ.NUESTROS HELADOS Mascarpone con frutos del bosque • Pistacho • Chocolate • Mandarina • Nocciola.DEGUSTACIÓN DE POSTRES Para dos personas. \\n\",\n",
        ")\n",
        "\n",
        "chat_session = model.start_chat(\n",
        "  history=[\n",
        "    {\n",
        "      \"role\": \"user\",\n",
        "      \"parts\": [\n",
        "        \"Hola\\n\",\n",
        "      ],\n",
        "    },\n",
        "    {\n",
        "      \"role\": \"model\",\n",
        "      \"parts\": [\n",
        "        \"¡Hola! 👋 ¿Qué puedo hacer por ti hoy? ¿Ya tienes en mente tu menú? 😊 \\n\",\n",
        "      ],\n",
        "    },\n",
        "    {\n",
        "      \"role\": \"user\",\n",
        "      \"parts\": [\n",
        "        \"Salmon\\n\",\n",
        "      ],\n",
        "    },\n",
        "    {\n",
        "      \"role\": \"model\",\n",
        "      \"parts\": [\n",
        "        \"¡Excelente elección! El salmón es un pescado delicioso y versátil. ¿Cómo lo vas a preparar? ¿A la parrilla, al horno, en un ceviche?  😊  \\n\\nConocer la preparación me ayudará a recomendarte la bebida perfecta para acompañar tu salmón. \\n\",\n",
        "      ],\n",
        "    },\n",
        "    {\n",
        "      \"role\": \"user\",\n",
        "      \"parts\": [\n",
        "        \"Al horno\",\n",
        "      ],\n",
        "    },\n",
        "    {\n",
        "      \"role\": \"model\",\n",
        "      \"parts\": [\n",
        "        \"¡Perfecto! El salmón al horno es una delicia.  Para acompañarlo te recomiendo: \\n\\n* **Un Sauvignon Blanc de Nueva Zelanda:**  Sus notas cítricas y herbales complementarán a la perfección la textura suave y el sabor delicado del salmón. \\n* **Un Pinot Noir de Borgoña:**  Su cuerpo ligero y notas de frutos rojos como cereza y frambuesa crearán un maridaje elegante y armonioso.\\n* **Un Riesling seco de Alemania:**  Sus notas minerales y de frutas blancas como pera y manzana verde resaltarán la riqueza del salmón al horno. \\n\\n¿Qué te parece? ¿Te gustaría probar alguna de estas opciones? 😄 \\n\",\n",
        "      ],\n",
        "    },\n",
        "  ]\n",
        ")\n",
        "\n",
        "response = chat_session.send_message(\"INSERT_INPUT-HERE\")\n",
        "\n",
        "print(response.text)"
      ]
    },
    {
      "cell_type": "code",
      "source": [
        "history_chat = []"
      ],
      "metadata": {
        "id": "SSIbRmVO6hsq"
      },
      "execution_count": 5,
      "outputs": []
    },
    {
      "cell_type": "code",
      "source": [
        "chat_session = model.start_chat(\n",
        "  history=history_chat\n",
        ")\n",
        "\n",
        "response = chat_session.send_message(\"INSERT_INPUT-HERE\")\n",
        "\n"
      ],
      "metadata": {
        "id": "iURq5c1s6Uuq"
      },
      "execution_count": 6,
      "outputs": []
    },
    {
      "cell_type": "code",
      "source": [
        "def infinite_chat():\n",
        "  chat_session = model.start_chat(\n",
        "  history=history_chat\n",
        "  )\n",
        "  while True:\n",
        "    user_input = input(\"You: \")\n",
        "    if user_input.lower() == \"exit\":\n",
        "      break\n",
        "    response = chat_session.send_message(user_input)\n",
        "    print(\"DMiBar:\", response.text)\n",
        "    history_chat.append({'role': 'user','parts':[user_input]})\n",
        "    history_chat.append({'role': 'model','parts':[response.text]})\n",
        "\n"
      ],
      "metadata": {
        "id": "Q49Rfc_X7Nk6"
      },
      "execution_count": 7,
      "outputs": []
    },
    {
      "cell_type": "code",
      "source": [
        "infinite_chat()"
      ],
      "metadata": {
        "colab": {
          "base_uri": "https://localhost:8080/",
          "height": 254
        },
        "id": "lVHpI4dB_WDm",
        "outputId": "05e79f8e-f797-480f-e44b-c2661884b4c2"
      },
      "execution_count": 8,
      "outputs": [
        {
          "name": "stdout",
          "output_type": "stream",
          "text": [
            "You: Hola\n",
            "DMiBar: ¡Hola! 👋 ¿Qué van a pedir para comer hoy? 😊  Cuéntame qué plato tienen en mente y te ayudo a encontrar la bebida perfecta para acompañarlo. 🥂 \n",
            "\n",
            "You: SCAMPI TANDOORI \n",
            "DMiBar: ¡Excelente elección! El Scampi Tandoori es un plato lleno de sabor y especias. Para realzar su experiencia, te recomiendo un **vino blanco argentino** con notas cítricas y minerales. \n",
            "\n",
            "Te sugiero probar un **Torrontés** de la región de Salta o Cafayate. Su frescura y aromas florales complementarán a la perfección las notas especiadas del Tandoori.  \n",
            "\n",
            "Otra opción interesante es un **Chardonnay** de la región de Mendoza, que aporta notas de frutas blancas, pan tostado y un toque de vainilla, creando un maridaje armonioso. \n",
            "\n",
            "¡Espero que disfrutes de tu comida! 🥂\n",
            "\n",
            "You: Exit\n"
          ]
        }
      ]
    }
  ]
}